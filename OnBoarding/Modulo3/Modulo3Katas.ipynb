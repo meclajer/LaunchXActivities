{
 "cells": [
  {
   "cell_type": "markdown",
   "metadata": {},
   "source": [
    "## Uso de operadores and y or\n",
    "\n",
    "Problema 1.-"
   ]
  },
  {
   "cell_type": "code",
   "execution_count": null,
   "metadata": {},
   "outputs": [],
   "source": [
    "# Velocidad del asteroide\n",
    "asteroideV = 49\n",
    "\n",
    "\n",
    "if asteroideV > 25:\n",
    "    print('¡Alerta! ¡Un asteroide se acerca a velocidades peligrosas!')\n",
    "else:\n",
    "    print('¡Sigue con tu día!')"
   ]
  },
  {
   "cell_type": "markdown",
   "metadata": {},
   "source": [
    "Problema 2.-"
   ]
  },
  {
   "cell_type": "code",
   "execution_count": null,
   "metadata": {},
   "outputs": [],
   "source": [
    "# Velocidad del asteroide\n",
    "asteroideV = 19\n",
    "\n",
    "# Logica usando if, elif y else\n",
    "if asteroideV > 20:\n",
    "    print('Look up! ¡Hay una luz mágica en el cielo!')\n",
    "elif asteroideV == 20:\n",
    "    print('Look up! ¡Hay una luz mágica en el cielo!')\n",
    "else:\n",
    "    print('¡Nada que ver aquí!')\n",
    "\n",
    "\n",
    "# Logica optimisada\n",
    "# if asteroideV >= 20: #(velocidad igual o mayor a 20 km/s)\n",
    "#     print('Look up! ¡Hay una luz mágica en el cielo!')\n",
    "# else:\n",
    "#     print('¡Nada que ver aquí!')\n"
   ]
  }
 ],
 "metadata": {
  "language_info": {
   "name": "python"
  },
  "orig_nbformat": 4
 },
 "nbformat": 4,
 "nbformat_minor": 2
}
