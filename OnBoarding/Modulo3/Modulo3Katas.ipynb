{
 "cells": [
  {
   "cell_type": "markdown",
   "metadata": {},
   "source": [
    "## Uso de operadores and y or\n",
    "\n",
    "Problema 1.-"
   ]
  },
  {
   "cell_type": "code",
   "execution_count": 1,
   "metadata": {},
   "outputs": [
    {
     "name": "stdout",
     "output_type": "stream",
     "text": [
      "¡Alerta! ¡Un asteroide se acerca a velocidades peligrosas!\n"
     ]
    }
   ],
   "source": [
    "# Velocidad del asteroide\n",
    "asteroideV = 49\n",
    "\n",
    "\n",
    "if asteroideV > 25:\n",
    "    print('¡Alerta! ¡Un asteroide se acerca a velocidades peligrosas!')\n",
    "else:\n",
    "    print('¡Sigue con tu día!')"
   ]
  },
  {
   "cell_type": "markdown",
   "metadata": {},
   "source": [
    "Problema 2.-"
   ]
  },
  {
   "cell_type": "code",
   "execution_count": 2,
   "metadata": {},
   "outputs": [
    {
     "name": "stdout",
     "output_type": "stream",
     "text": [
      "¡Nada que ver aquí!\n"
     ]
    }
   ],
   "source": [
    "# Velocidad del asteroide\n",
    "asteroideV = 19\n",
    "\n",
    "# Logica usando if, elif y else\n",
    "if asteroideV > 20:\n",
    "    print('Look up! ¡Hay una luz mágica en el cielo!')\n",
    "elif asteroideV == 20:\n",
    "    print('Look up! ¡Hay una luz mágica en el cielo!')\n",
    "else:\n",
    "    print('¡Nada que ver aquí!')\n",
    "\n",
    "\n",
    "# Logica optimisada\n",
    "# if asteroideV >= 20: #(velocidad igual o mayor a 20 km/s)\n",
    "#     print('Look up! ¡Hay una luz mágica en el cielo!')\n",
    "# else:\n",
    "#     print('¡Nada que ver aquí!')\n"
   ]
  },
  {
   "cell_type": "markdown",
   "metadata": {},
   "source": [
    "Problema 3.-"
   ]
  },
  {
   "cell_type": "code",
   "execution_count": 17,
   "metadata": {},
   "outputs": [
    {
     "name": "stdout",
     "output_type": "stream",
     "text": [
      "¡Alerta, Un asteroide muy peligroso viene hacia la Tierra! Tamaño: 35 metros.\n"
     ]
    }
   ],
   "source": [
    "# Velocidad asteroide\n",
    "asteroideV = 20\n",
    "#Tamaño asteroide\n",
    "asteroideT = 35\n",
    "\n",
    "\n",
    "if asteroideV > 25 or asteroideT > 25: #Super meteorito.\n",
    "    print('¡Alerta, Un asteroide muy peligroso viene hacia la Tierra! Velocidad: ' + str(asteroideV) + 'Km/s. Tamaño: ' + str(asteroideT) +  'metros.')\n",
    "elif asteroideV >= 20 and asteroideV < 25 and asteroideT < 25: #Parametros tolerables, solo luz.\n",
    "    print('Look up! ¡Hay una luz mágica en el cielo!')\n",
    "else:\n",
    "    print('Nada que ver aquí :D')\n",
    "\n"
   ]
  }
 ],
 "metadata": {
  "interpreter": {
   "hash": "afe2c9f16fc683c756fd1c6ef6ed247fcc827aaf71470ae824b97700811a954b"
  },
  "kernelspec": {
   "display_name": "Python 3.10.2 64-bit",
   "language": "python",
   "name": "python3"
  },
  "language_info": {
   "codemirror_mode": {
    "name": "ipython",
    "version": 3
   },
   "file_extension": ".py",
   "mimetype": "text/x-python",
   "name": "python",
   "nbconvert_exporter": "python",
   "pygments_lexer": "ipython3",
   "version": "3.10.2"
  },
  "orig_nbformat": 4
 },
 "nbformat": 4,
 "nbformat_minor": 2
}
