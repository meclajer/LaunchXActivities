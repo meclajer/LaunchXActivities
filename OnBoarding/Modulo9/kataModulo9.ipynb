{
 "cells": [
  {
   "cell_type": "markdown",
   "metadata": {},
   "source": [
    "## Uso de funciones en Python\n",
    "\n",
    "# Ejercicio 1 Trabajar con argumentos en funciones\n",
    "\n",
    "Paso 1.- Función para leer 3 tanques de combustible y muestre el promedio"
   ]
  },
  {
   "cell_type": "code",
   "execution_count": 30,
   "metadata": {},
   "outputs": [],
   "source": [
    "def fuelReport(main_tank, external_tank, hydrogen_tank):\n",
    "    total_average = (main_tank + external_tank + hydrogen_tank) / 3\n",
    "    return f\"\"\"Reporte de combustible:\n",
    "    Promedio total: { total_average }%\n",
    "    Tanque principal: { main_tank }%\n",
    "    Tanque externo: { external_tank }%\n",
    "    Tanque de hidrogeno: { hydrogen_tank }% \n",
    "    \"\"\""
   ]
  },
  {
   "cell_type": "markdown",
   "metadata": {},
   "source": [
    "Paso 2.- Llamamos a la función que genera el reporte"
   ]
  },
  {
   "cell_type": "code",
   "execution_count": 31,
   "metadata": {},
   "outputs": [
    {
     "name": "stdout",
     "output_type": "stream",
     "text": [
      "Reporte de combustible:\n",
      "    Promedio total: 51.666666666666664%\n",
      "    Tanque principal: 30%\n",
      "    Tanque externo: 45%\n",
      "    Tanque de hidrogeno: 80% \n",
      "    \n"
     ]
    }
   ],
   "source": [
    "print(fuelReport(30,45,80))"
   ]
  },
  {
   "cell_type": "markdown",
   "metadata": {},
   "source": [
    "Paso 3.- Función promedio"
   ]
  },
  {
   "cell_type": "code",
   "execution_count": 32,
   "metadata": {},
   "outputs": [],
   "source": [
    "def promedio(valores_com):\n",
    "    promedio = sum(valores_com)/len(valores_com)\n",
    "    return promedio"
   ]
  },
  {
   "cell_type": "markdown",
   "metadata": {},
   "source": [
    "Paso 4.- Función actualizada"
   ]
  },
  {
   "cell_type": "code",
   "execution_count": 33,
   "metadata": {},
   "outputs": [
    {
     "name": "stdout",
     "output_type": "stream",
     "text": [
      "Reporte de combustible:\n",
      "    Promedio total: 51.666666666666664%\n",
      "    Tanque principal: 30%\n",
      "    Tanque externo: 45%\n",
      "    Tanque de hidrogeno: 80% \n",
      "    \n"
     ]
    }
   ],
   "source": [
    "def fuelReportTwo(main_tank, external_tank, hydrogen_tank):\n",
    "    total_average = (main_tank + external_tank + hydrogen_tank) / 3\n",
    "    return f\"\"\"Reporte de combustible:\n",
    "    Promedio total: { promedio([main_tank, external_tank, hydrogen_tank]) }%\n",
    "    Tanque principal: { main_tank }%\n",
    "    Tanque externo: { external_tank }%\n",
    "    Tanque de hidrogeno: { hydrogen_tank }% \n",
    "    \"\"\"\n",
    "\n",
    "print(fuelReportTwo(30,45,80))"
   ]
  },
  {
   "cell_type": "markdown",
   "metadata": {},
   "source": [
    "# Ejercicio 2 Trabajo con argumentos de palabra clave\n",
    "\n",
    "Paso 1.- Función con un informe preciso de la misión."
   ]
  },
  {
   "cell_type": "code",
   "execution_count": 34,
   "metadata": {},
   "outputs": [
    {
     "name": "stdout",
     "output_type": "stream",
     "text": [
      "\n",
      "    Mision a: Moon.\n",
      "    Tiempo total de viaje: 65 minutos.\n",
      "    Combustible restante: 500000 galones.\n",
      "    \n"
     ]
    }
   ],
   "source": [
    "def mission_report(pre_launch_time, flight_time, destination, external_tank, main_tank):\n",
    "    return f\"\"\"\n",
    "    Mision a: {destination }.\n",
    "    Tiempo total de viaje: { pre_launch_time + flight_time } minutos.\n",
    "    Combustible restante: { external_tank + main_tank } galones.\n",
    "    \"\"\"\n",
    "\n",
    "print(mission_report(14, 51, \"Moon\", 200000, 300000))"
   ]
  },
  {
   "cell_type": "markdown",
   "metadata": {},
   "source": [
    "Paso 2.- Nueva función de reporte"
   ]
  },
  {
   "cell_type": "code",
   "execution_count": 35,
   "metadata": {},
   "outputs": [
    {
     "name": "stdout",
     "output_type": "stream",
     "text": [
      "\n",
      "    Reporte de mision\n",
      "    Hora de prelanzamiento: 1\n",
      "    Tiempo de vuelo: 144 minutos\n",
      "    Destino: Marte \n",
      "    \tCombustible en el tanque externo : 800000 galones.\n",
      "\tCombustible en el tanque interno : 900000 galones.\n",
      "\n",
      "Total de combustible: 1700000 galones \n",
      "\n"
     ]
    }
   ],
   "source": [
    "def new_mission_report(prelanzamiento_hora,  destino, *tiempos_vuelo, **tanques_combustible):\n",
    "    reporte=f\"\"\"\n",
    "    Reporte de mision\n",
    "    Hora de prelanzamiento: {prelanzamiento_hora}\n",
    "    Tiempo de vuelo: {sum(tiempos_vuelo)} minutos\n",
    "    Destino: {destino} \n",
    "    \"\"\"\n",
    "    total_combustible=0\n",
    "    for i,j in tanques_combustible.items():\n",
    "        reporte += f\"\"\"\\tCombustible en el tanque {i} : {j} galones.\\n\"\"\"\n",
    "        total_combustible+=j\n",
    "    reporte += f\"\"\"\\nTotal de combustible: \"\"\"+str(total_combustible)+\" galones \\n\"\n",
    "    return reporte\n",
    "\n",
    "print(new_mission_report(1,\"Marte\", 120,12,12, externo=800000, interno=900000))"
   ]
  },
  {
   "cell_type": "markdown",
   "metadata": {},
   "source": []
  }
 ],
 "metadata": {
  "interpreter": {
   "hash": "afe2c9f16fc683c756fd1c6ef6ed247fcc827aaf71470ae824b97700811a954b"
  },
  "kernelspec": {
   "display_name": "Python 3.10.2 64-bit",
   "language": "python",
   "name": "python3"
  },
  "language_info": {
   "codemirror_mode": {
    "name": "ipython",
    "version": 3
   },
   "file_extension": ".py",
   "mimetype": "text/x-python",
   "name": "python",
   "nbconvert_exporter": "python",
   "pygments_lexer": "ipython3",
   "version": "3.10.2"
  },
  "orig_nbformat": 4
 },
 "nbformat": 4,
 "nbformat_minor": 2
}
