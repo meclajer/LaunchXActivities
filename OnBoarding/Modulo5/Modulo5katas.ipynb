{
 "cells": [
  {
   "cell_type": "markdown",
   "metadata": {},
   "source": [
    "## Utilizar operadores aritméticos\n",
    "\n",
    "# Ejercicio 1\n",
    "\n",
    "Paso 1.- Crear variables para almacenar las dos distancias"
   ]
  },
  {
   "cell_type": "code",
   "execution_count": 9,
   "metadata": {},
   "outputs": [],
   "source": [
    "planetaUno = 149597870\n",
    "planetaDos = 778547200"
   ]
  },
  {
   "cell_type": "markdown",
   "metadata": {},
   "source": [
    "Paso 2.- Calcular la distancia entre planetas"
   ]
  },
  {
   "cell_type": "code",
   "execution_count": 10,
   "metadata": {},
   "outputs": [
    {
     "name": "stdout",
     "output_type": "stream",
     "text": [
      "Distancia en km: 628949330\n",
      "Distancia en mi: 390577533.93\n"
     ]
    }
   ],
   "source": [
    "distanciaKm = planetaDos - planetaUno\n",
    "print(\"Distancia en km: \" + str(distanciaKm))\n",
    "\n",
    "distanciaMi = distanciaKm * 0.621\n",
    "print(\"Distancia en mi: \" + str(distanciaMi))"
   ]
  },
  {
   "cell_type": "markdown",
   "metadata": {},
   "source": [
    "# Ejercicio 2\n",
    "\n",
    "Paso 1.- Leer los valores"
   ]
  },
  {
   "cell_type": "code",
   "execution_count": 11,
   "metadata": {},
   "outputs": [],
   "source": [
    "planetaUno = input('Introduzca la distancia del sol para el primer planeta en KM')\n",
    "planetaDos = input('Introduzca la distancia desde el sol para el segundo planeta en KM')"
   ]
  },
  {
   "cell_type": "markdown",
   "metadata": {},
   "source": [
    "Paso 2.- Convertir a numeros"
   ]
  },
  {
   "cell_type": "code",
   "execution_count": 12,
   "metadata": {},
   "outputs": [],
   "source": [
    "planetaUno = abs( int(planetaUno) )\n",
    "planetaDos = abs( int(planetaDos) )"
   ]
  },
  {
   "cell_type": "markdown",
   "metadata": {},
   "source": [
    "Paso 3.- Realizar el cálculo"
   ]
  },
  {
   "cell_type": "code",
   "execution_count": 13,
   "metadata": {},
   "outputs": [
    {
     "name": "stdout",
     "output_type": "stream",
     "text": [
      "Distancia en km: 170000000\n",
      "Distancia en mi: 105570000.0\n"
     ]
    }
   ],
   "source": [
    "distanciaKm = planetaDos - planetaUno\n",
    "print(\"Distancia en km: \" + str(distanciaKm))\n",
    "\n",
    "distanciaMi = distanciaKm * 0.621\n",
    "print(\"Distancia en mi: \" + str(distanciaMi))"
   ]
  }
 ],
 "metadata": {
  "interpreter": {
   "hash": "afe2c9f16fc683c756fd1c6ef6ed247fcc827aaf71470ae824b97700811a954b"
  },
  "kernelspec": {
   "display_name": "Python 3.10.2 64-bit",
   "language": "python",
   "name": "python3"
  },
  "language_info": {
   "codemirror_mode": {
    "name": "ipython",
    "version": 3
   },
   "file_extension": ".py",
   "mimetype": "text/x-python",
   "name": "python",
   "nbconvert_exporter": "python",
   "pygments_lexer": "ipython3",
   "version": "3.10.2"
  },
  "orig_nbformat": 4
 },
 "nbformat": 4,
 "nbformat_minor": 2
}
