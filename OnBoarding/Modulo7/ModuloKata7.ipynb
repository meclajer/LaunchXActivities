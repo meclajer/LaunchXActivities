{
 "cells": [
  {
   "cell_type": "markdown",
   "metadata": {},
   "source": [
    "## Creación de bucle \"while\"\n",
    "\n",
    "# Ejercicio 1: uso de ciclos while\n",
    "\n",
    "Paso 1.- Creación de variables necesarias"
   ]
  },
  {
   "cell_type": "code",
   "execution_count": 60,
   "metadata": {},
   "outputs": [],
   "source": [
    "nuevoPlaneta = ''\n",
    "planetas = []"
   ]
  },
  {
   "cell_type": "markdown",
   "metadata": {},
   "source": [
    "Paso 2.- crear un ciclo while "
   ]
  },
  {
   "cell_type": "code",
   "execution_count": 61,
   "metadata": {},
   "outputs": [],
   "source": [
    "while nuevoPlaneta.lower() != 'done':\n",
    "    if nuevoPlaneta:\n",
    "        planetas.append(nuevoPlaneta)\n",
    "    nuevoPlaneta = input('Ingrese planeta \"Para detener ingrese la palabra done\"')"
   ]
  },
  {
   "cell_type": "markdown",
   "metadata": {},
   "source": [
    "Paso 3.- mostrar carga del usuario"
   ]
  },
  {
   "cell_type": "code",
   "execution_count": 62,
   "metadata": {},
   "outputs": [
    {
     "name": "stdout",
     "output_type": "stream",
     "text": [
      "['Tierra', 'jupiter', 'marte']\n"
     ]
    }
   ],
   "source": [
    "print(planetas)"
   ]
  },
  {
   "cell_type": "markdown",
   "metadata": {},
   "source": [
    "# Ejercicio 2 Creación de un ciclo \"for\"\n",
    "\n",
    "Paso 1.- Mostrar listado de planetas"
   ]
  },
  {
   "cell_type": "code",
   "execution_count": 63,
   "metadata": {},
   "outputs": [
    {
     "name": "stdout",
     "output_type": "stream",
     "text": [
      "Tierra.\n",
      "jupiter.\n",
      "marte.\n"
     ]
    }
   ],
   "source": [
    "for planeta in planetas:\n",
    "    print( planeta + '.' )"
   ]
  }
 ],
 "metadata": {
  "interpreter": {
   "hash": "afe2c9f16fc683c756fd1c6ef6ed247fcc827aaf71470ae824b97700811a954b"
  },
  "kernelspec": {
   "display_name": "Python 3.10.2 64-bit",
   "language": "python",
   "name": "python3"
  },
  "language_info": {
   "codemirror_mode": {
    "name": "ipython",
    "version": 3
   },
   "file_extension": ".py",
   "mimetype": "text/x-python",
   "name": "python",
   "nbconvert_exporter": "python",
   "pygments_lexer": "ipython3",
   "version": "3.10.2"
  },
  "orig_nbformat": 4
 },
 "nbformat": 4,
 "nbformat_minor": 2
}
