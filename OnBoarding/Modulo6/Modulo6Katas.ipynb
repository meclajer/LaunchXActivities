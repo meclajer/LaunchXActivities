{
 "cells": [
  {
   "cell_type": "markdown",
   "metadata": {},
   "source": [
    "## Crear y usar listas de Python\n",
    "\n",
    "# Ejercicio 1\n",
    "\n",
    "Paso 1.- crear variable con planetas e imprimir cantidad de planetas."
   ]
  },
  {
   "cell_type": "code",
   "execution_count": 11,
   "metadata": {},
   "outputs": [
    {
     "name": "stdout",
     "output_type": "stream",
     "text": [
      "Tiene:  8  planetas\n"
     ]
    }
   ],
   "source": [
    "planetas = ['Mercurio', 'Venus', 'Tierra', 'Marte', 'Júpiter', 'Saturno', 'Urano', 'Neptuno']\n",
    "\n",
    "print('Tiene: ', len(planetas), ' planetas')"
   ]
  },
  {
   "cell_type": "markdown",
   "metadata": {},
   "source": [
    "Paso 2.- Agregar a pluton y mostrar el ultimo elemento"
   ]
  },
  {
   "cell_type": "code",
   "execution_count": 12,
   "metadata": {},
   "outputs": [
    {
     "name": "stdout",
     "output_type": "stream",
     "text": [
      "Pluton es el ultimo de la lista\n"
     ]
    }
   ],
   "source": [
    "planetas.append('Pluton')\n",
    "\n",
    "print(planetas[-1], 'es el ultimo de la lista')"
   ]
  },
  {
   "cell_type": "markdown",
   "metadata": {},
   "source": [
    "# Ejercicio 2\n",
    "\n",
    "Paso 1.- Crear una lista de planetas"
   ]
  },
  {
   "cell_type": "code",
   "execution_count": 13,
   "metadata": {},
   "outputs": [],
   "source": [
    "planetas = ['Mercurio', 'Venus', 'Tierra', 'Marte', 'Júpiter', 'Saturno', 'Urano', 'Neptuno']"
   ]
  },
  {
   "cell_type": "markdown",
   "metadata": {},
   "source": [
    "Paso 2.- Solicitamos el nombre del planeta"
   ]
  },
  {
   "cell_type": "code",
   "execution_count": 14,
   "metadata": {},
   "outputs": [],
   "source": [
    "planetaInput = input('Captura el nombre del planeta (Con primera letra mayuscula)')"
   ]
  },
  {
   "cell_type": "markdown",
   "metadata": {},
   "source": [
    "Paso 3.- Buscar el planeta en la lista"
   ]
  },
  {
   "cell_type": "code",
   "execution_count": 15,
   "metadata": {},
   "outputs": [],
   "source": [
    "planetaIndex = planetas.index(planetaInput)"
   ]
  },
  {
   "cell_type": "markdown",
   "metadata": {},
   "source": [
    "Paso 4.- Mostrar planetas más cercanos al sol que el que el usuario ingresó"
   ]
  },
  {
   "cell_type": "code",
   "execution_count": 16,
   "metadata": {},
   "outputs": [
    {
     "name": "stdout",
     "output_type": "stream",
     "text": [
      "Los planetas mas cercanos que: Marte\n",
      "['Mercurio', 'Venus', 'Tierra']\n"
     ]
    }
   ],
   "source": [
    "print('Los planetas mas cercanos que: ' + planetaInput)\n",
    "print(planetas[0:planetaIndex])"
   ]
  },
  {
   "cell_type": "markdown",
   "metadata": {},
   "source": [
    "Paso 5.- Mostrar planetas más alejados del sol que el que el usuario ingresó"
   ]
  },
  {
   "cell_type": "code",
   "execution_count": 17,
   "metadata": {},
   "outputs": [
    {
     "name": "stdout",
     "output_type": "stream",
     "text": [
      "Los planetas mas lejanos que: Marte\n",
      "['Júpiter', 'Saturno', 'Urano', 'Neptuno']\n"
     ]
    }
   ],
   "source": [
    "print('Los planetas mas lejanos que: ' + planetaInput)\n",
    "print(planetas[planetaIndex + 1:])"
   ]
  }
 ],
 "metadata": {
  "interpreter": {
   "hash": "afe2c9f16fc683c756fd1c6ef6ed247fcc827aaf71470ae824b97700811a954b"
  },
  "kernelspec": {
   "display_name": "Python 3.10.2 64-bit",
   "language": "python",
   "name": "python3"
  },
  "language_info": {
   "codemirror_mode": {
    "name": "ipython",
    "version": 3
   },
   "file_extension": ".py",
   "mimetype": "text/x-python",
   "name": "python",
   "nbconvert_exporter": "python",
   "pygments_lexer": "ipython3",
   "version": "3.10.2"
  },
  "orig_nbformat": 4
 },
 "nbformat": 4,
 "nbformat_minor": 2
}
